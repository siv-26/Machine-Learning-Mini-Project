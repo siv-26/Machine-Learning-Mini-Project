{
 "cells": [
  {
   "cell_type": "markdown",
   "metadata": {},
   "source": [
    "<h1>Intialization</h1>"
   ]
  },
  {
   "cell_type": "code",
   "execution_count": 38,
   "metadata": {},
   "outputs": [],
   "source": [
    "%matplotlib inline\n",
    "import matplotlib.pyplot as plt\n",
    "import pandas as pd\n",
    "import sklearn\n",
    "from sklearn.model_selection import train_test_split"
   ]
  },
  {
   "cell_type": "markdown",
   "metadata": {},
   "source": [
    "<h1>Extraction and Preprocessing</h1>"
   ]
  },
  {
   "cell_type": "code",
   "execution_count": 2,
   "metadata": {},
   "outputs": [
    {
     "data": {
      "text/html": [
       "<div>\n",
       "<style scoped>\n",
       "    .dataframe tbody tr th:only-of-type {\n",
       "        vertical-align: middle;\n",
       "    }\n",
       "\n",
       "    .dataframe tbody tr th {\n",
       "        vertical-align: top;\n",
       "    }\n",
       "\n",
       "    .dataframe thead th {\n",
       "        text-align: right;\n",
       "    }\n",
       "</style>\n",
       "<table border=\"1\" class=\"dataframe\">\n",
       "  <thead>\n",
       "    <tr style=\"text-align: right;\">\n",
       "      <th></th>\n",
       "      <th>Longitude</th>\n",
       "      <th>Latitude</th>\n",
       "      <th>Bearing</th>\n",
       "      <th>G(x)</th>\n",
       "      <th>G(y)</th>\n",
       "      <th>G(z)</th>\n",
       "      <th>G(calibrated)</th>\n",
       "      <th>Acceleration Sensor(Total)(g)</th>\n",
       "      <th>Acceleration Sensor(X axis)(g)</th>\n",
       "      <th>Acceleration Sensor(Y axis)(g)</th>\n",
       "      <th>...</th>\n",
       "      <th>Litres Per 100 Kilometer(Instant)(l/100km)</th>\n",
       "      <th>Litres Per 100 Kilometer(Long Term Average)(l/100km)</th>\n",
       "      <th>Speed (GPS)(mph)</th>\n",
       "      <th>Speed (OBD)(mph)</th>\n",
       "      <th>Torque(Nm)</th>\n",
       "      <th>Trip average KPL(kpl)</th>\n",
       "      <th>Trip average MPG(mpg)</th>\n",
       "      <th>Trip Distance(miles)</th>\n",
       "      <th>Trip Time(Since journey start)(s)</th>\n",
       "      <th>Target</th>\n",
       "    </tr>\n",
       "  </thead>\n",
       "  <tbody>\n",
       "    <tr>\n",
       "      <th>0</th>\n",
       "      <td>77.57104435</td>\n",
       "      <td>13.03916558</td>\n",
       "      <td>9.523458</td>\n",
       "      <td>-3.071855</td>\n",
       "      <td>5.039948</td>\n",
       "      <td>9.25866</td>\n",
       "      <td>0.011931</td>\n",
       "      <td>0.04968</td>\n",
       "      <td>-0.081762</td>\n",
       "      <td>0.501797</td>\n",
       "      <td>...</td>\n",
       "      <td>0</td>\n",
       "      <td>19.596409</td>\n",
       "      <td>15.65513802</td>\n",
       "      <td>13.670166</td>\n",
       "      <td>8.4126358</td>\n",
       "      <td>949.7289429</td>\n",
       "      <td>2682.850098</td>\n",
       "      <td>10.04934406</td>\n",
       "      <td>3237</td>\n",
       "      <td>0</td>\n",
       "    </tr>\n",
       "  </tbody>\n",
       "</table>\n",
       "<p>1 rows × 33 columns</p>\n",
       "</div>"
      ],
      "text/plain": [
       "     Longitude     Latitude   Bearing      G(x)      G(y)     G(z)  \\\n",
       "0  77.57104435  13.03916558  9.523458 -3.071855  5.039948  9.25866   \n",
       "\n",
       "    G(calibrated)   Acceleration Sensor(Total)(g)  \\\n",
       "0        0.011931                         0.04968   \n",
       "\n",
       "   Acceleration Sensor(X axis)(g)  Acceleration Sensor(Y axis)(g)  ...    \\\n",
       "0                       -0.081762                        0.501797  ...     \n",
       "\n",
       "   Litres Per 100 Kilometer(Instant)(l/100km)  \\\n",
       "0                                           0   \n",
       "\n",
       "  Litres Per 100 Kilometer(Long Term Average)(l/100km) Speed (GPS)(mph)  \\\n",
       "0                                          19.596409        15.65513802   \n",
       "\n",
       "   Speed (OBD)(mph)  Torque(Nm)  Trip average KPL(kpl)  Trip average MPG(mpg)  \\\n",
       "0         13.670166   8.4126358            949.7289429            2682.850098   \n",
       "\n",
       "  Trip Distance(miles) Trip Time(Since journey start)(s) Target  \n",
       "0          10.04934406                              3237      0  \n",
       "\n",
       "[1 rows x 33 columns]"
      ]
     },
     "execution_count": 2,
     "metadata": {},
     "output_type": "execute_result"
    }
   ],
   "source": [
    "data = pd.read_csv('newdata.csv',encoding='latin-1')\n",
    "#data.drop(['GPS Time','Device Time','Horizontal Dilution of Precision','Altitude','Average trip speed(whilst stopped or moving)(mph)','Engine Oil Temperature(乎C)','GPS Accuracy(m)','GPS Altitude(m)','Miles Per Gallon(Instant)(mpg)','Miles Per Gallon(Long Term Average)(mpg)'],axis=1)\n",
    "data.drop([data.columns[0],data.columns[1],data.columns[4],data.columns[5],data.columns[6],data.columns[18],data.columns[20],data.columns[22],data.columns[25],data.columns[26],data.columns[31],data.columns[36],data.columns[37]],axis=1,inplace=True)\n",
    "data.head(1)"
   ]
  },
  {
   "cell_type": "code",
   "execution_count": 3,
   "metadata": {},
   "outputs": [
    {
     "data": {
      "text/plain": [
       "0    6024\n",
       "1    2212\n",
       "Name: Target, dtype: int64"
      ]
     },
     "execution_count": 3,
     "metadata": {},
     "output_type": "execute_result"
    }
   ],
   "source": [
    "df = pd.DataFrame(data)\n",
    "df.replace('-','0000',inplace=True)\n",
    "df.head()\n",
    "df['Target'].value_counts()"
   ]
  },
  {
   "cell_type": "markdown",
   "metadata": {},
   "source": [
    "<h1>Training the SVC Model</h1>"
   ]
  },
  {
   "cell_type": "code",
   "execution_count": 4,
   "metadata": {},
   "outputs": [
    {
     "data": {
      "text/plain": [
       "0    0\n",
       "1    0\n",
       "2    0\n",
       "3    0\n",
       "4    0\n",
       "Name: Target, dtype: int64"
      ]
     },
     "execution_count": 4,
     "metadata": {},
     "output_type": "execute_result"
    }
   ],
   "source": [
    "X = df.drop(['Target'], axis=1)\n",
    "X.head()\n",
    "y = df['Target']\n",
    "y.head()"
   ]
  },
  {
   "cell_type": "markdown",
   "metadata": {},
   "source": [
    "<h1>Normalization"
   ]
  },
  {
   "cell_type": "code",
   "execution_count": 5,
   "metadata": {},
   "outputs": [
    {
     "name": "stdout",
     "output_type": "stream",
     "text": [
      "[[ 0.0265081   0.10463424 -1.78247817 ...  0.81906184 -0.5377797\n",
      "  -0.50157834]\n",
      " [ 0.02651166  0.10486597 -1.88155543 ...  0.82043916 -0.53710191\n",
      "  -0.50123169]\n",
      " [ 0.02651166  0.10486597 -1.88155543 ...  0.82168858 -0.53665376\n",
      "  -0.50088505]\n",
      " ...\n",
      " [ 0.04302716  0.16827898  1.42008491 ... -1.69252842 -1.21698423\n",
      "  -1.18342663]\n",
      " [ 0.04302716  0.16827898  1.42008491 ... -1.69253263 -1.21698423\n",
      "  -1.18307999]\n",
      " [ 0.04302716  0.16827898  1.42008491 ... -1.69253729 -1.21698423\n",
      "  -1.18273334]]\n"
     ]
    },
    {
     "name": "stderr",
     "output_type": "stream",
     "text": [
      "C:\\Users\\sivaj\\Anaconda3\\lib\\site-packages\\sklearn\\utils\\validation.py:475: DataConversionWarning: Data with input dtype object was converted to float64 by StandardScaler.\n",
      "  warnings.warn(msg, DataConversionWarning)\n"
     ]
    }
   ],
   "source": [
    "X_new = X.values\n",
    "# Data Normalization\n",
    "from sklearn.preprocessing import StandardScaler\n",
    "X_std = StandardScaler().fit_transform(X_new)\n",
    "print(X_std)"
   ]
  },
  {
   "cell_type": "code",
   "execution_count": 6,
   "metadata": {},
   "outputs": [],
   "source": [
    "X_train, X_test, y_train, y_test = train_test_split(X_std,y,test_size=0.1)"
   ]
  },
  {
   "cell_type": "code",
   "execution_count": 54,
   "metadata": {},
   "outputs": [],
   "source": [
    "from sklearn.svm import SVC\n",
    "from sklearn.tree import DecisionTreeClassifier\n",
    "from sklearn.ensemble import RandomForestClassifier\n",
    "\n",
    "model = SVC(kernel='sigmoid',gamma=1.0)\n",
    "#model = SVC(C=10)\n",
    "model2 = DecisionTreeClassifier(min_samples_split=2, random_state=111)\n",
    "clf = RandomForestClassifier(n_estimators=100)"
   ]
  },
  {
   "cell_type": "code",
   "execution_count": 55,
   "metadata": {
    "scrolled": false
   },
   "outputs": [
    {
     "data": {
      "text/plain": [
       "RandomForestClassifier(bootstrap=True, class_weight=None, criterion='gini',\n",
       "            max_depth=None, max_features='auto', max_leaf_nodes=None,\n",
       "            min_impurity_decrease=0.0, min_impurity_split=None,\n",
       "            min_samples_leaf=1, min_samples_split=2,\n",
       "            min_weight_fraction_leaf=0.0, n_estimators=100, n_jobs=1,\n",
       "            oob_score=False, random_state=None, verbose=0,\n",
       "            warm_start=False)"
      ]
     },
     "execution_count": 55,
     "metadata": {},
     "output_type": "execute_result"
    }
   ],
   "source": [
    "model.fit(X_train, y_train)\n",
    "model2.fit(X_train, y_train)\n",
    "clf.fit(X_train,y_train)"
   ]
  },
  {
   "cell_type": "markdown",
   "metadata": {},
   "source": [
    "<h1>Finding Accuracy:</h1>"
   ]
  },
  {
   "cell_type": "code",
   "execution_count": 56,
   "metadata": {},
   "outputs": [
    {
     "data": {
      "text/plain": [
       "0.9793689320388349"
      ]
     },
     "execution_count": 56,
     "metadata": {},
     "output_type": "execute_result"
    }
   ],
   "source": [
    "model2.score(X_test,y_test)\n",
    "model.score(X_test,y_test)"
   ]
  },
  {
   "cell_type": "markdown",
   "metadata": {},
   "source": [
    "<h1> Test Input:"
   ]
  },
  {
   "cell_type": "code",
   "execution_count": 19,
   "metadata": {},
   "outputs": [
    {
     "name": "stdout",
     "output_type": "stream",
     "text": [
      "[[ 0.04661686  0.16436832 -1.12623875 -1.38187774 -0.39702768  1.0603909\n",
      "  -0.05906162  0.21140331 -1.80703383 -0.51659295  0.90900351 -0.90057379\n",
      "  -4.58756407  2.87682604  0.30973984  0.46723846 -0.37511207 -1.12578979\n",
      "   0.15741974  0.04900651 -0.18215692 -0.56288531  2.83652167  2.48829483\n",
      "  -2.55009689 -0.5447576  -0.50503436  0.04681068 -1.19925973 -1.19925972\n",
      "  -1.21640453 -1.61950449]]\n",
      "[[ 0.02645757  0.10506247  1.2274941   0.35872732  0.58087861  1.17870086\n",
      "  -0.08908819 -0.34042354  0.32793955  0.48023627  1.13200324 -0.6870748\n",
      "   1.16929834 -0.8380399   0.40313246  0.46386554 -0.47988617  1.22820212\n",
      "   0.10282957  0.03045926  0.38470419  1.77816005 -1.25620846 -0.34542157\n",
      "   1.7604544   0.42650127  0.29436022  1.27402592  0.82584881  0.82584882\n",
      "  -0.53372607 -0.4981119 ]]\n"
     ]
    }
   ],
   "source": [
    "row=X_std[6050]   #Rash test\n",
    "row1=X_std[10]    #Safe test\n",
    "\n",
    "#row.drop(['Target'],inplace=True)\n",
    "#row1.drop(['Target'],inplace=True)\n",
    "\n",
    "row=row.reshape(1,-1)\n",
    "row1=row1.reshape(1,-1)\n",
    "print(row)\n",
    "print(row1)"
   ]
  },
  {
   "cell_type": "markdown",
   "metadata": {},
   "source": [
    "<h2>Function to print Rash or Safe:"
   ]
  },
  {
   "cell_type": "code",
   "execution_count": 20,
   "metadata": {},
   "outputs": [],
   "source": [
    "#print(df.loc[6040,:])\n",
    "def find(p):\n",
    "     if p == 1:\n",
    "         print (\"Rash\")\n",
    "     else:\n",
    "        print (\"Safe\")"
   ]
  },
  {
   "cell_type": "markdown",
   "metadata": {},
   "source": [
    "<h2>Prediction:"
   ]
  },
  {
   "cell_type": "code",
   "execution_count": 35,
   "metadata": {},
   "outputs": [
    {
     "name": "stdout",
     "output_type": "stream",
     "text": [
      "Rash\n",
      "Rash\n",
      "Safe\n",
      "Safe\n",
      "[0 1 1 1 0 0 0 0 0 0 0 0 1 0 0 0 0 0 0 0 1 1 1 0 0 1 1 0 0 0 1 0 0 0 1 1 0\n",
      " 1 0 0 0 0 0 0 0 0 0 0 1 0 1 0 0 1 1 0 0 1 0 0 0 0 1 0 1 0 1 0 1 1 0 0 0 0\n",
      " 1 0 1 0 0 0 0 0 0 1 0 0 1 0 0 1 0 0 0 0 1 0 0 0 0 1 0 0 0 0 0 0 0 0 0 0 0\n",
      " 1 1 1 0 0 0 1 0 0 1 0 0 1 0 1 1 0 1 0 0 0 1 0 1 0 0 1 0 0 0 0 0 0 0 0 0 1\n",
      " 0 0 0 0 0 1 0 0 0 0 0 0 0 0 0 1 0 0 1 1 0 1 1 0 0 1 0 0 0 0 0 0 1 0 0 0 0\n",
      " 1 1 0 0 0 0 0 0 0 0 0 0 1 0 0 0 0 0 0 0 1 0 0 0 1 0 0 1 1 1 0 0 0 1 0 0 1\n",
      " 1 0 1 0 0 0 0 0 0 0 0 0 0 0 0 1 0 0 1 0 0 0 0 1 0 0 0 1 0 1 0 0 1 0 0 0 0\n",
      " 0 0 0 0 0 0 0 0 0 0 0 0 0 0 1 1 0 1 0 0 1 0 0 0 0 0 1 0 0 0 0 1 1 1 1 0 0\n",
      " 0 0 0 0 0 0 0 0 0 0 1 0 0 1 0 0 0 0 0 0 1 1 0 0 0 1 1 0 1 0 1 0 1 0 1 1 1\n",
      " 0 0 1 0 0 1 0 0 0 0 0 1 1 1 1 0 0 1 0 0 0 0 0 0 0 1 1 0 1 0 0 1 1 0 1 1 0\n",
      " 0 0 0 0 0 0 0 0 0 0 1 0 1 0 0 0 1 0 0 0 1 1 0 0 1 0 0 0 0 1 1 0 0 1 0 0 0\n",
      " 1 0 0 0 0 1 0 0 0 0 1 0 0 0 1 0 0 0 0 1 0 1 0 1 0 0 1 1 0 0 0 1 0 0 0 0 0\n",
      " 0 1 0 0 0 0 0 0 0 1 1 0 0 0 0 1 1 1 0 0 0 0 1 0 1 0 1 0 0 1 0 0 1 0 0 0 0\n",
      " 0 0 0 0 0 1 1 0 0 0 0 0 0 1 0 1 0 0 0 0 0 0 0 0 1 0 1 1 0 0 0 1 1 1 0 1 1\n",
      " 0 0 0 0 0 1 0 0 0 1 0 0 0 0 0 0 0 0 0 1 0 0 0 0 0 0 0 0 0 0 1 1 0 0 0 0 1\n",
      " 0 0 0 0 0 0 0 0 1 0 0 1 0 0 0 0 0 0 1 0 0 0 1 0 0 1 1 1 0 0 0 0 0 1 0 1 1\n",
      " 0 1 0 1 1 0 0 0 1 0 0 1 0 1 0 1 0 0 0 0 0 0 0 0 1 1 0 0 0 0 1 0 0 0 0 0 0\n",
      " 1 0 0 0 0 1 0 0 1 1 0 0 0 0 0 0 0 0 0 0 0 0 0 0 0 1 1 0 0 0 0 0 0 0 0 0 0\n",
      " 0 0 0 0 0 1 0 1 0 1 0 0 1 0 0 0 0 0 0 0 0 1 0 0 0 0 1 1 0 0 0 0 0 0 0 0 0\n",
      " 0 0 0 1 1 1 0 1 1 0 1 0 1 1 0 0 0 0 1 0 0 0 1 0 0 0 0 0 1 0 0 0 1 0 0 0 0\n",
      " 0 0 0 1 0 0 0 0 0 0 0 0 0 0 1 0 1 1 0 0 0 0 0 0 0 0 1 0 1 0 1 0 1 1 0 0 1\n",
      " 0 1 0 0 0 0 1 0 1 0 1 0 1 0 1 0 0 0 0 0 0 1 0 0 0 1 1 0 0 0 0 0 0 0 0 0 1\n",
      " 1 0 0 0 1 0 0 0 0 0]\n"
     ]
    }
   ],
   "source": [
    "p1=model.predict(row)    #Rash for SVC\n",
    "p2=model2.predict(row)   #Rash for DT\n",
    "p11=model.predict(row1)  #Safe for SVC\n",
    "p12=model2.predict(row1)  #Safe for DT\n",
    "find(p1)\n",
    "find(p2)\n",
    "find(p11)\n",
    "find(p12)\n",
    "\n",
    "y_pred=clf.predict(X_test)\n",
    "print(y_pred)\n",
    "from sklearn import metrics\n",
    "#print(\"Accuracy:\",metrics.accuracy_score(y_test, y_pred))"
   ]
  },
  {
   "cell_type": "code",
   "execution_count": null,
   "metadata": {},
   "outputs": [],
   "source": []
  }
 ],
 "metadata": {
  "celltoolbar": "Raw Cell Format",
  "kernelspec": {
   "display_name": "Python 3",
   "language": "python",
   "name": "python3"
  },
  "language_info": {
   "codemirror_mode": {
    "name": "ipython",
    "version": 3
   },
   "file_extension": ".py",
   "mimetype": "text/x-python",
   "name": "python",
   "nbconvert_exporter": "python",
   "pygments_lexer": "ipython3",
   "version": "3.6.5"
  }
 },
 "nbformat": 4,
 "nbformat_minor": 2
}
